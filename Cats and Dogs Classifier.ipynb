{
 "cells": [
  {
   "cell_type": "code",
   "execution_count": 1,
   "id": "collect-transparency",
   "metadata": {},
   "outputs": [],
   "source": [
    "import os, shutil\n",
    "original_dataset_dir = '/home/nasir/Desktop/AI Q3/Cats and Dog model/dogs-vs-cats/train'\n",
    "base_dir = '/home/nasir/Desktop/AI Q3/Cats and Dog model/cats_and_dogs_small'\n",
    "os.mkdir(base_dir)"
   ]
  },
  {
   "cell_type": "code",
   "execution_count": 2,
   "id": "sought-percentage",
   "metadata": {},
   "outputs": [],
   "source": [
    "#directories for training, validation and test splits\n",
    "train_dir = os.path.join(base_dir, 'train')\n",
    "os.mkdir(train_dir)\n",
    "validation_dir = os.path.join(base_dir, 'validation')\n",
    "os.mkdir(validation_dir)\n",
    "test_dir = os.path.join(base_dir, 'test')\n",
    "os.mkdir(test_dir)"
   ]
  },
  {
   "cell_type": "code",
   "execution_count": 3,
   "id": "hungarian-people",
   "metadata": {},
   "outputs": [],
   "source": [
    "#cat training directory\n",
    "train_cats_dir = os.path.join(train_dir, 'cats')\n",
    "os.mkdir(train_cats_dir)"
   ]
  },
  {
   "cell_type": "code",
   "execution_count": 4,
   "id": "dental-adolescent",
   "metadata": {},
   "outputs": [],
   "source": [
    "#dog training directory\n",
    "train_dogs_dir = os.path.join(train_dir, 'dogs')\n",
    "os.mkdir(train_dogs_dir)"
   ]
  },
  {
   "cell_type": "code",
   "execution_count": 5,
   "id": "divine-tracker",
   "metadata": {},
   "outputs": [],
   "source": [
    "#cat validation directory\n",
    "validation_cats_dir = os.path.join(validation_dir, 'cats')\n",
    "os.mkdir(validation_cats_dir)"
   ]
  },
  {
   "cell_type": "code",
   "execution_count": 6,
   "id": "metric-bathroom",
   "metadata": {},
   "outputs": [],
   "source": [
    "#dog validation directory\n",
    "validation_dogs_dir = os.path.join(validation_dir, 'dogs')\n",
    "os.mkdir(validation_dogs_dir)"
   ]
  },
  {
   "cell_type": "code",
   "execution_count": 7,
   "id": "essential-tamil",
   "metadata": {},
   "outputs": [],
   "source": [
    "#cat test directory\n",
    "test_cats_dir = os.path.join(test_dir, 'cats')\n",
    "os.mkdir(test_cats_dir)"
   ]
  },
  {
   "cell_type": "code",
   "execution_count": 8,
   "id": "auburn-lecture",
   "metadata": {},
   "outputs": [],
   "source": [
    "#dog test directory\n",
    "test_dogs_dir = os.path.join(test_dir, 'dogs')\n",
    "os.mkdir(test_dogs_dir)"
   ]
  },
  {
   "cell_type": "code",
   "execution_count": 9,
   "id": "premier-paragraph",
   "metadata": {},
   "outputs": [],
   "source": [
    "#Copies the first 1,000 cat images to train_cats_dir\n",
    "fnames = ['cat.{}.jpg'.format(i) for i in range(1000)]\n",
    "for fname in fnames:\n",
    "    src = os.path.join(original_dataset_dir, fname)\n",
    "    dst = os.path.join(train_cats_dir, fname)\n",
    "    shutil.copyfile(src, dst)\n",
    "\n",
    "#Copies the next 500 cat images to validation_cats_dir\n",
    "fnames = ['cat.{}.jpg'.format(i) for i in range(1000, 1500)]\n",
    "for fname in fnames:\n",
    "    src = os.path.join(original_dataset_dir, fname)\n",
    "    dst = os.path.join(validation_cats_dir, fname)\n",
    "    shutil.copyfile(src, dst)\n",
    "\n",
    "#Copies the next 500 cat images to test_cats_dir\n",
    "fnames = ['cat.{}.jpg'.format(i) for i in range(1500, 2000)]\n",
    "for fname in fnames:\n",
    "    src = os.path.join(original_dataset_dir, fname)\n",
    "    dst = os.path.join(test_cats_dir, fname)\n",
    "    shutil.copyfile(src, dst)\n",
    "\n",
    "#Copies the first 1,000 dog images to train_dogs_dir\n",
    "fnames = ['dog.{}.jpg'.format(i) for i in range(1000)]\n",
    "for fname in fnames:\n",
    "    src = os.path.join(original_dataset_dir, fname)\n",
    "    dst = os.path.join(train_dogs_dir, fname)\n",
    "    shutil.copyfile(src, dst)\n",
    "\n",
    "#Copies the next 500 dog images to validation_dogs_dir\n",
    "fnames = ['dog.{}.jpg'.format(i) for i in range(1000, 1500)]\n",
    "for fname in fnames:\n",
    "    src = os.path.join(original_dataset_dir, fname)\n",
    "    dst = os.path.join(validation_dogs_dir, fname)\n",
    "    shutil.copyfile(src, dst)\n",
    "\n",
    "#Copies the next 500 dog images to test_dogs_dir\n",
    "fnames = ['dog.{}.jpg'.format(i) for i in range(1500, 2000)]\n",
    "for fname in fnames:\n",
    "    src = os.path.join(original_dataset_dir, fname)\n",
    "    dst = os.path.join(test_dogs_dir, fname)\n",
    "    shutil.copyfile(src, dst)"
   ]
  },
  {
   "cell_type": "markdown",
   "id": "curious-worcester",
   "metadata": {},
   "source": [
    "# Building Network "
   ]
  },
  {
   "cell_type": "code",
   "execution_count": 10,
   "id": "other-bradley",
   "metadata": {},
   "outputs": [],
   "source": [
    "from keras import layers\n",
    "from keras import models\n",
    "model = models.Sequential()\n",
    "model.add(layers.Conv2D(32, (3, 3), activation='relu',input_shape=(150, 150, 3)))\n",
    "model.add(layers.MaxPooling2D((2, 2)))\n",
    "model.add(layers.Conv2D(64, (3, 3), activation='relu'))\n",
    "model.add(layers.MaxPooling2D((2, 2)))\n",
    "model.add(layers.Conv2D(128, (3, 3), activation='relu'))\n",
    "model.add(layers.MaxPooling2D((2, 2)))\n",
    "model.add(layers.Conv2D(128, (3, 3), activation='relu'))\n",
    "model.add(layers.MaxPooling2D((2, 2)))\n",
    "model.add(layers.Flatten())\n",
    "model.add(layers.Dense(512, activation='relu'))\n",
    "model.add(layers.Dense(1, activation='sigmoid'))"
   ]
  },
  {
   "cell_type": "code",
   "execution_count": 11,
   "id": "mature-thong",
   "metadata": {},
   "outputs": [
    {
     "name": "stdout",
     "output_type": "stream",
     "text": [
      "Model: \"sequential\"\n",
      "_________________________________________________________________\n",
      "Layer (type)                 Output Shape              Param #   \n",
      "=================================================================\n",
      "conv2d (Conv2D)              (None, 148, 148, 32)      896       \n",
      "_________________________________________________________________\n",
      "max_pooling2d (MaxPooling2D) (None, 74, 74, 32)        0         \n",
      "_________________________________________________________________\n",
      "conv2d_1 (Conv2D)            (None, 72, 72, 64)        18496     \n",
      "_________________________________________________________________\n",
      "max_pooling2d_1 (MaxPooling2 (None, 36, 36, 64)        0         \n",
      "_________________________________________________________________\n",
      "conv2d_2 (Conv2D)            (None, 34, 34, 128)       73856     \n",
      "_________________________________________________________________\n",
      "max_pooling2d_2 (MaxPooling2 (None, 17, 17, 128)       0         \n",
      "_________________________________________________________________\n",
      "conv2d_3 (Conv2D)            (None, 15, 15, 128)       147584    \n",
      "_________________________________________________________________\n",
      "max_pooling2d_3 (MaxPooling2 (None, 7, 7, 128)         0         \n",
      "_________________________________________________________________\n",
      "flatten (Flatten)            (None, 6272)              0         \n",
      "_________________________________________________________________\n",
      "dense (Dense)                (None, 512)               3211776   \n",
      "_________________________________________________________________\n",
      "dense_1 (Dense)              (None, 1)                 513       \n",
      "=================================================================\n",
      "Total params: 3,453,121\n",
      "Trainable params: 3,453,121\n",
      "Non-trainable params: 0\n",
      "_________________________________________________________________\n"
     ]
    }
   ],
   "source": [
    "model.summary()"
   ]
  },
  {
   "cell_type": "code",
   "execution_count": 13,
   "id": "sporting-stroke",
   "metadata": {},
   "outputs": [],
   "source": [
    "from keras import optimizers\n",
    "model.compile(loss='binary_crossentropy',\n",
    "optimizer=optimizers.RMSprop(lr=1e-4),\n",
    "metrics=['acc'])"
   ]
  },
  {
   "cell_type": "markdown",
   "id": "entertaining-qatar",
   "metadata": {},
   "source": [
    "# Data Preprocessing\n"
   ]
  },
  {
   "cell_type": "code",
   "execution_count": 14,
   "id": "blessed-prompt",
   "metadata": {},
   "outputs": [],
   "source": [
    "from keras.preprocessing.image import ImageDataGenerator\n",
    "train_datagen = ImageDataGenerator(rescale=1./255)\n",
    "test_datagen = ImageDataGenerator(rescale=1./255)"
   ]
  },
  {
   "cell_type": "code",
   "execution_count": 15,
   "id": "banner-honduras",
   "metadata": {},
   "outputs": [
    {
     "name": "stdout",
     "output_type": "stream",
     "text": [
      "Found 2000 images belonging to 2 classes.\n",
      "Found 1000 images belonging to 2 classes.\n"
     ]
    }
   ],
   "source": [
    "train_generator = train_datagen.flow_from_directory(\n",
    "    train_dir,\n",
    "    target_size=(150, 150),\n",
    "    batch_size=20,\n",
    "    class_mode='binary')\n",
    "\n",
    "validation_generator = test_datagen.flow_from_directory(\n",
    "    validation_dir,\n",
    "    target_size=(150, 150),\n",
    "    batch_size=20,\n",
    "    class_mode='binary')"
   ]
  },
  {
   "cell_type": "code",
   "execution_count": 16,
   "id": "metric-deficit",
   "metadata": {},
   "outputs": [
    {
     "name": "stdout",
     "output_type": "stream",
     "text": [
      "data batch shape: (20, 150, 150, 3)\n",
      "labels batch shape: (20,)\n"
     ]
    }
   ],
   "source": [
    "for data_batch, labels_batch in train_generator:\n",
    "    print('data batch shape:', data_batch.shape)\n",
    "    print('labels batch shape:', labels_batch.shape)\n",
    "    break"
   ]
  },
  {
   "cell_type": "markdown",
   "id": "vital-practice",
   "metadata": {},
   "source": [
    "# Fitting Model using a batch Generator"
   ]
  },
  {
   "cell_type": "code",
   "execution_count": 17,
   "id": "earlier-activity",
   "metadata": {},
   "outputs": [
    {
     "name": "stderr",
     "output_type": "stream",
     "text": [
      "/home/nasir/.local/lib/python3.8/site-packages/tensorflow/python/keras/engine/training.py:1844: UserWarning: `Model.fit_generator` is deprecated and will be removed in a future version. Please use `Model.fit`, which supports generators.\n",
      "  warnings.warn('`Model.fit_generator` is deprecated and '\n"
     ]
    },
    {
     "name": "stdout",
     "output_type": "stream",
     "text": [
      "Epoch 1/30\n",
      "100/100 [==============================] - 337s 3s/step - loss: 0.6976 - acc: 0.4955 - val_loss: 0.6833 - val_acc: 0.5880\n",
      "Epoch 2/30\n",
      "100/100 [==============================] - 303s 3s/step - loss: 0.6794 - acc: 0.5871 - val_loss: 0.6531 - val_acc: 0.6430\n",
      "Epoch 3/30\n",
      "100/100 [==============================] - 285s 3s/step - loss: 0.6517 - acc: 0.6362 - val_loss: 0.6280 - val_acc: 0.6500\n",
      "Epoch 4/30\n",
      "100/100 [==============================] - 288s 3s/step - loss: 0.5992 - acc: 0.6845 - val_loss: 0.6069 - val_acc: 0.6700\n",
      "Epoch 5/30\n",
      "100/100 [==============================] - 287s 3s/step - loss: 0.5667 - acc: 0.7164 - val_loss: 0.5890 - val_acc: 0.6870\n",
      "Epoch 6/30\n",
      "100/100 [==============================] - 286s 3s/step - loss: 0.5317 - acc: 0.7240 - val_loss: 0.5731 - val_acc: 0.6970\n",
      "Epoch 7/30\n",
      "100/100 [==============================] - 285s 3s/step - loss: 0.5048 - acc: 0.7401 - val_loss: 0.6140 - val_acc: 0.6700\n",
      "Epoch 8/30\n",
      "100/100 [==============================] - 285s 3s/step - loss: 0.4843 - acc: 0.7612 - val_loss: 0.5684 - val_acc: 0.7110\n",
      "Epoch 9/30\n",
      "100/100 [==============================] - 285s 3s/step - loss: 0.4611 - acc: 0.7724 - val_loss: 0.5588 - val_acc: 0.7220\n",
      "Epoch 10/30\n",
      "100/100 [==============================] - 300s 3s/step - loss: 0.4276 - acc: 0.8085 - val_loss: 0.5606 - val_acc: 0.7190\n",
      "Epoch 11/30\n",
      "100/100 [==============================] - 324s 3s/step - loss: 0.3950 - acc: 0.8236 - val_loss: 0.5635 - val_acc: 0.7350\n",
      "Epoch 12/30\n",
      "100/100 [==============================] - 289s 3s/step - loss: 0.3791 - acc: 0.8275 - val_loss: 0.5648 - val_acc: 0.7320\n",
      "Epoch 13/30\n",
      "100/100 [==============================] - 335s 3s/step - loss: 0.3639 - acc: 0.8350 - val_loss: 0.5993 - val_acc: 0.7050\n",
      "Epoch 14/30\n",
      "100/100 [==============================] - 310s 3s/step - loss: 0.3257 - acc: 0.8641 - val_loss: 0.5974 - val_acc: 0.7120\n",
      "Epoch 15/30\n",
      "100/100 [==============================] - 285s 3s/step - loss: 0.3097 - acc: 0.8721 - val_loss: 0.5789 - val_acc: 0.7220\n",
      "Epoch 16/30\n",
      "100/100 [==============================] - 285s 3s/step - loss: 0.2866 - acc: 0.8818 - val_loss: 0.6242 - val_acc: 0.7220\n",
      "Epoch 17/30\n",
      "100/100 [==============================] - 285s 3s/step - loss: 0.2692 - acc: 0.8910 - val_loss: 0.6443 - val_acc: 0.7100\n",
      "Epoch 18/30\n",
      "100/100 [==============================] - 1628s 16s/step - loss: 0.2443 - acc: 0.8965 - val_loss: 0.6123 - val_acc: 0.7260\n",
      "Epoch 19/30\n",
      "100/100 [==============================] - 269s 3s/step - loss: 0.2365 - acc: 0.9074 - val_loss: 0.6472 - val_acc: 0.7250\n",
      "Epoch 20/30\n",
      "100/100 [==============================] - 266s 3s/step - loss: 0.1820 - acc: 0.9319 - val_loss: 0.6317 - val_acc: 0.7310\n",
      "Epoch 21/30\n",
      "100/100 [==============================] - 265s 3s/step - loss: 0.1770 - acc: 0.9402 - val_loss: 0.6959 - val_acc: 0.7230\n",
      "Epoch 22/30\n",
      "100/100 [==============================] - 265s 3s/step - loss: 0.1612 - acc: 0.9463 - val_loss: 0.7162 - val_acc: 0.7110\n",
      "Epoch 23/30\n",
      "100/100 [==============================] - 267s 3s/step - loss: 0.1496 - acc: 0.9429 - val_loss: 0.7612 - val_acc: 0.7210\n",
      "Epoch 24/30\n",
      "100/100 [==============================] - 277s 3s/step - loss: 0.1104 - acc: 0.9734 - val_loss: 0.7969 - val_acc: 0.7180\n",
      "Epoch 25/30\n",
      "100/100 [==============================] - 267s 3s/step - loss: 0.0949 - acc: 0.9711 - val_loss: 0.8748 - val_acc: 0.6970\n",
      "Epoch 26/30\n",
      "100/100 [==============================] - 266s 3s/step - loss: 0.0805 - acc: 0.9787 - val_loss: 0.8543 - val_acc: 0.7060\n",
      "Epoch 27/30\n",
      "100/100 [==============================] - 266s 3s/step - loss: 0.0827 - acc: 0.9754 - val_loss: 0.9100 - val_acc: 0.7150\n",
      "Epoch 28/30\n",
      "100/100 [==============================] - 266s 3s/step - loss: 0.0838 - acc: 0.9745 - val_loss: 0.9255 - val_acc: 0.7180\n",
      "Epoch 29/30\n",
      "100/100 [==============================] - 265s 3s/step - loss: 0.0477 - acc: 0.9895 - val_loss: 0.9306 - val_acc: 0.7300\n",
      "Epoch 30/30\n",
      "100/100 [==============================] - 265s 3s/step - loss: 0.0479 - acc: 0.9908 - val_loss: 1.1859 - val_acc: 0.7030\n"
     ]
    }
   ],
   "source": [
    "history = model.fit_generator(\n",
    "    train_generator,\n",
    "    steps_per_epoch=100,\n",
    "    epochs=30,\n",
    "    validation_data=validation_generator,\n",
    "    validation_steps=50)"
   ]
  },
  {
   "cell_type": "markdown",
   "id": "internal-marketplace",
   "metadata": {},
   "source": [
    "# Saving Model"
   ]
  },
  {
   "cell_type": "code",
   "execution_count": 18,
   "id": "distant-miracle",
   "metadata": {},
   "outputs": [],
   "source": [
    "model.save('cats_and_dogs_small_1.h5')"
   ]
  },
  {
   "cell_type": "markdown",
   "id": "another-northwest",
   "metadata": {},
   "source": [
    "# Using Data Augmentation to increase Accuracy"
   ]
  },
  {
   "cell_type": "code",
   "execution_count": 19,
   "id": "forbidden-camel",
   "metadata": {},
   "outputs": [],
   "source": [
    "datagen = ImageDataGenerator(\n",
    "    rotation_range=40,\n",
    "    width_shift_range=0.2,\n",
    "    height_shift_range=0.2,\n",
    "    shear_range=0.2,\n",
    "    zoom_range=0.2,\n",
    "    horizontal_flip=True,\n",
    "    fill_mode='nearest')"
   ]
  },
  {
   "cell_type": "markdown",
   "id": "frequent-secret",
   "metadata": {},
   "source": [
    "## New Convent "
   ]
  },
  {
   "cell_type": "code",
   "execution_count": 20,
   "id": "educated-ethernet",
   "metadata": {},
   "outputs": [],
   "source": [
    "model = models.Sequential()\n",
    "model.add(layers.Conv2D(32, (3, 3), activation='relu',\n",
    "                        input_shape=(150, 150, 3)))\n",
    "model.add(layers.MaxPooling2D((2, 2)))\n",
    "model.add(layers.Conv2D(64, (3, 3), activation='relu'))\n",
    "model.add(layers.MaxPooling2D((2, 2)))\n",
    "model.add(layers.Conv2D(128, (3, 3), activation='relu'))\n",
    "model.add(layers.MaxPooling2D((2, 2)))\n",
    "model.add(layers.Conv2D(128, (3, 3), activation='relu'))\n",
    "model.add(layers.MaxPooling2D((2, 2)))\n",
    "model.add(layers.Flatten())\n",
    "model.add(layers.Dropout(0.5))\n",
    "model.add(layers.Dense(512, activation='relu'))\n",
    "model.add(layers.Dense(1, activation='sigmoid'))\n",
    "\n",
    "model.compile(loss='binary_crossentropy',\n",
    "                optimizer=optimizers.RMSprop(lr=1e-4),\n",
    "                metrics=['acc'])"
   ]
  },
  {
   "cell_type": "markdown",
   "id": "allied-scratch",
   "metadata": {},
   "source": [
    "## Training"
   ]
  },
  {
   "cell_type": "code",
   "execution_count": 23,
   "id": "disturbed-sudan",
   "metadata": {},
   "outputs": [
    {
     "name": "stdout",
     "output_type": "stream",
     "text": [
      "Found 2000 images belonging to 2 classes.\n",
      "Found 1000 images belonging to 2 classes.\n",
      "Epoch 1/100\n",
      " 63/100 [=================>............] - ETA: 2:19 - loss: 0.6753 - acc: 0.5815WARNING:tensorflow:Your input ran out of data; interrupting training. Make sure that your dataset or generator can generate at least `steps_per_epoch * epochs` batches (in this case, 10000 batches). You may need to use the repeat() function when building your dataset.\n",
      "WARNING:tensorflow:Your input ran out of data; interrupting training. Make sure that your dataset or generator can generate at least `steps_per_epoch * epochs` batches (in this case, 50 batches). You may need to use the repeat() function when building your dataset.\n",
      "100/100 [==============================] - 281s 3s/step - loss: 0.6753 - acc: 0.5815 - val_loss: 0.7016 - val_acc: 0.5070\n"
     ]
    }
   ],
   "source": [
    "train_datagen = ImageDataGenerator(\n",
    "    rescale=1./255,\n",
    "    rotation_range=40,\n",
    "    width_shift_range=0.2,\n",
    "    height_shift_range=0.2,\n",
    "    shear_range=0.2,\n",
    "    zoom_range=0.2,\n",
    "    horizontal_flip=True,)\n",
    "\n",
    "test_datagen = ImageDataGenerator(rescale=1./255)\n",
    "\n",
    "train_generator = train_datagen.flow_from_directory(\n",
    "    train_dir,\n",
    "    target_size=(150, 150),\n",
    "    batch_size=32,\n",
    "    class_mode='binary')\n",
    "\n",
    "validation_generator = test_datagen.flow_from_directory(\n",
    "    validation_dir,\n",
    "    target_size=(150, 150),\n",
    "    batch_size=32,\n",
    "    class_mode='binary')\n",
    "\n",
    "history = model.fit_generator(\n",
    "    train_generator,\n",
    "    steps_per_epoch=100,\n",
    "    epochs=100,\n",
    "    validation_data=validation_generator,\n",
    "    validation_steps=50)"
   ]
  },
  {
   "cell_type": "code",
   "execution_count": 24,
   "id": "regular-scholarship",
   "metadata": {},
   "outputs": [],
   "source": [
    "model.save('cats_and_dogs_small_2.h5')"
   ]
  },
  {
   "cell_type": "code",
   "execution_count": null,
   "id": "sound-month",
   "metadata": {},
   "outputs": [],
   "source": []
  },
  {
   "cell_type": "code",
   "execution_count": null,
   "id": "tired-birmingham",
   "metadata": {},
   "outputs": [],
   "source": []
  }
 ],
 "metadata": {
  "kernelspec": {
   "display_name": "Python 3",
   "language": "python",
   "name": "python3"
  },
  "language_info": {
   "codemirror_mode": {
    "name": "ipython",
    "version": 3
   },
   "file_extension": ".py",
   "mimetype": "text/x-python",
   "name": "python",
   "nbconvert_exporter": "python",
   "pygments_lexer": "ipython3",
   "version": "3.8.5"
  }
 },
 "nbformat": 4,
 "nbformat_minor": 5
}
